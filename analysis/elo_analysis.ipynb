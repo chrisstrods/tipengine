{
 "cells": [
  {
   "cell_type": "code",
   "execution_count": 1,
   "outputs": [],
   "source": [
    "from os.path import dirname, abspath\n",
    "import os, sys\n",
    "import pandas as pd\n",
    "import numpy as np\n",
    "sys.path.append(os.path.abspath(os.getcwd()))\n",
    "from elo import initialise_elo, calculate_elo"
   ],
   "metadata": {
    "collapsed": false,
    "pycharm": {
     "name": "#%%\n"
    }
   }
  },
  {
   "cell_type": "code",
   "execution_count": 2,
   "outputs": [],
   "source": [
    "def load():\n",
    "    results = pd.read_csv('../data/results.csv', low_memory=False)\n",
    "    odds = pd.read_csv('../data/odds_full.csv', low_memory=False)\n",
    "    player_stats = pd.read_csv('../data/playerstats.csv', low_memory=False)\n",
    "    player_details = pd.read_csv('../data/playerdetails.csv', low_memory=False)\n",
    "\n",
    "    #import elo from initialise_elo\n",
    "    return results, odds, player_stats, player_details\n",
    "\n",
    "\n",
    "ELO_BASE = 1500"
   ],
   "metadata": {
    "collapsed": false,
    "pycharm": {
     "name": "#%%\n"
    }
   }
  },
  {
   "cell_type": "code",
   "execution_count": 3,
   "outputs": [],
   "source": [
    "results, odds, player_stats, player_details = load()\n",
    "\n",
    "initialise_elo(results)\n",
    "calculate_elo(results)"
   ],
   "metadata": {
    "collapsed": false,
    "pycharm": {
     "name": "#%%\n"
    }
   }
  },
  {
   "cell_type": "code",
   "execution_count": 3,
   "outputs": [],
   "source": [],
   "metadata": {
    "collapsed": false,
    "pycharm": {
     "name": "#%%\n"
    }
   }
  }
 ],
 "metadata": {
  "kernelspec": {
   "display_name": "Python 3",
   "language": "python",
   "name": "python3"
  },
  "language_info": {
   "codemirror_mode": {
    "name": "ipython",
    "version": 2
   },
   "file_extension": ".py",
   "mimetype": "text/x-python",
   "name": "python",
   "nbconvert_exporter": "python",
   "pygments_lexer": "ipython2",
   "version": "2.7.6"
  }
 },
 "nbformat": 4,
 "nbformat_minor": 0
}